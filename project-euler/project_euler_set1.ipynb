{
  "nbformat": 4,
  "nbformat_minor": 0,
  "metadata": {
    "colab": {
      "name": "project_euler_set1",
      "provenance": [],
      "collapsed_sections": [],
      "toc_visible": true,
      "machine_shape": "hm",
      "include_colab_link": true
    },
    "kernelspec": {
      "name": "python3",
      "display_name": "Python 3"
    },
    "accelerator": "GPU"
  },
  "cells": [
    {
      "cell_type": "markdown",
      "metadata": {
        "id": "view-in-github",
        "colab_type": "text"
      },
      "source": [
        "<a href=\"https://colab.research.google.com/github/raoanonymous/my_programming/blob/master/project-euler/project_euler_set1.ipynb\" target=\"_parent\"><img src=\"https://colab.research.google.com/assets/colab-badge.svg\" alt=\"Open In Colab\"/></a>"
      ]
    },
    {
      "cell_type": "code",
      "metadata": {
        "id": "Q0lZ8b7HpZ0r",
        "colab_type": "code",
        "colab": {}
      },
      "source": [
        "import time"
      ],
      "execution_count": 0,
      "outputs": []
    },
    {
      "cell_type": "markdown",
      "metadata": {
        "id": "jX70z203qcYi",
        "colab_type": "text"
      },
      "source": [
        "## 2. Even Fibonacci Numbers"
      ]
    },
    {
      "cell_type": "code",
      "metadata": {
        "id": "cMmAnPxILkst",
        "colab_type": "code",
        "colab": {
          "base_uri": "https://localhost:8080/",
          "height": 86
        },
        "outputId": "3abdc7df-ae84-4d5c-f509-318f6423787c"
      },
      "source": [
        "\n",
        "def fib_recur_n(n):\n",
        "    \"\"\"\n",
        "    Recursive slowest!\n",
        "    \"\"\"\n",
        "    if n>1:\n",
        "        #print(fibn(n-1)+fibn(n-2))\n",
        "        return (fib_recur_n(n-1)+fib_recur_n(n-2))\n",
        "    else:\n",
        "        #print(1)\n",
        "        return 1\n",
        "\n",
        "def fib_n(a,b,n):\n",
        "    \"\"\"\n",
        "    Without recursion, faster!\n",
        "    \"\"\"\n",
        "    seq = list()\n",
        "    while(n-2):\n",
        "        c = a+b\n",
        "        a = b\n",
        "        b = c\n",
        "        n = n-1\n",
        "        seq.append(c)\n",
        "    return seq  \n",
        "\n",
        "def fib_lim(a,b,limit):\n",
        "    \"\"\"\n",
        "    Generation of seq with upper limit\n",
        "    \"\"\"\n",
        "    seq = list()\n",
        "    seq.append(a)\n",
        "    seq.append(b)\n",
        "    c = 0\n",
        "    while(c<limit):\n",
        "        c = a+b\n",
        "        a = b\n",
        "        b = c\n",
        "        seq.append(c)\n",
        "    return seq    \n",
        "\n",
        "def fib_lim_even(a,b,limit):\n",
        "    \"\"\"\n",
        "    Optimised Solution\n",
        "    \"\"\"\n",
        "    seq = list()\n",
        "    seq.append(b)\n",
        "    c = 0\n",
        "    while (c<limit):\n",
        "        c = a+b\n",
        "        a = b+c\n",
        "        b = c+a\n",
        "        seq.append(b)\n",
        "    return sum(seq[:-1])\n",
        "\n",
        "start = time.process_time()\n",
        "fib_seq = fib_lim(1,2,4e6)\n",
        "print(sum([l if l%2==0 else 0 for l in fib_seq[:-1]]))\n",
        "print(\"Time Taken: \",time.process_time() - start)\n",
        "\n",
        "start = time.process_time()\n",
        "print(fib_lim_even(1,2,4e6))\n",
        "print(\"Time Taken: \",time.process_time() - start)"
      ],
      "execution_count": 2,
      "outputs": [
        {
          "output_type": "stream",
          "text": [
            "4613732\n",
            "Time Taken:  0.0011318540000000432\n",
            "4613732\n",
            "Time Taken:  0.0006666440000000495\n"
          ],
          "name": "stdout"
        }
      ]
    },
    {
      "cell_type": "markdown",
      "metadata": {
        "id": "DcuQkADBDGlu",
        "colab_type": "text"
      },
      "source": [
        "## 3. Largest Prime Factor"
      ]
    },
    {
      "cell_type": "code",
      "metadata": {
        "id": "VbwWZ3sq6v3t",
        "colab_type": "code",
        "colab": {
          "base_uri": "https://localhost:8080/",
          "height": 86
        },
        "outputId": "706948e4-fc92-4c5d-b770-7d961cce8336"
      },
      "source": [
        "import math \n",
        "m = 600851475143\n",
        "\n",
        "def find_factors(number):\n",
        "    \"\"\"\n",
        "    Using the sieve method.\n",
        "    \"\"\"\n",
        "    n=1\n",
        "    factors = list()\n",
        "    while n<=math.sqrt(number):\n",
        "        if number%n==0:\n",
        "            factors.append(n)\n",
        "            factors.append(number//n)\n",
        "        n+=1\n",
        "    return(sorted(factors, reverse=True))\n",
        "\n",
        "for factor in find_factors(m):\n",
        "    if len(find_factors(factor))==2:\n",
        "        print(factor)\n",
        "        break\n",
        "print(\"Time Taken: \",time.process_time() - start)\n",
        "\n",
        "\"\"\"\n",
        "Filter out even numbers and then \n",
        "check for the largest prime\n",
        "\"\"\"\n",
        "start = time.process_time()\n",
        "all_factors = find_factors(m)\n",
        "odd_factors = list(filter(lambda x:x%2!=0,all_factors))\n",
        "for factor in odd_factors:\n",
        "    if len(find_factors(factor))==2:\n",
        "        print(factor)\n",
        "        break\n",
        "print(\"Time Taken: \",time.process_time() - start)"
      ],
      "execution_count": 3,
      "outputs": [
        {
          "output_type": "stream",
          "text": [
            "6857\n",
            "Time Taken:  0.5288252500000001\n",
            "6857\n",
            "Time Taken:  0.5176304360000001\n"
          ],
          "name": "stdout"
        }
      ]
    },
    {
      "cell_type": "markdown",
      "metadata": {
        "id": "0dH9HuVzLPWf",
        "colab_type": "text"
      },
      "source": [
        "## Largest palindrome product"
      ]
    },
    {
      "cell_type": "code",
      "metadata": {
        "id": "fhOJ0yWUs8IH",
        "colab_type": "code",
        "colab": {}
      },
      "source": [
        ""
      ],
      "execution_count": 0,
      "outputs": []
    }
  ]
}